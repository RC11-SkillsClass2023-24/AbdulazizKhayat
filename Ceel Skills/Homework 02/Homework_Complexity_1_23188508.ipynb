{
 "cells": [
  {
   "cell_type": "markdown",
   "metadata": {},
   "source": [
    "## 4 Exercise Four"
   ]
  },
  {
   "cell_type": "code",
   "execution_count": 11,
   "metadata": {},
   "outputs": [
    {
     "name": "stdout",
     "output_type": "stream",
     "text": [
      "The 8-th harmonic number is: 2.7178571428571425\n"
     ]
    }
   ],
   "source": [
    "def harmonic_number(n):\n",
    "    # Initialize the result to 0.0\n",
    "    result = 0.0\n",
    "    \n",
    "    # Loop through the first n natural numbers\n",
    "    for k in range(1, n + 1):\n",
    "        # Add 1/k to the result in each iteration\n",
    "        result += 1 / k\n",
    "    \n",
    "    # Return the final result\n",
    "    return result\n",
    "\n",
    "# Sample usage\n",
    "n_value = 8\n",
    "\n",
    "# Calculate the 5-th harmonic number\n",
    "result_hn = harmonic_number(n_value)\n",
    "\n",
    "# Print the result\n",
    "print(f\"The {n_value}-th harmonic number is: {result_hn}\")"
   ]
  },
  {
   "cell_type": "markdown",
   "metadata": {},
   "source": [
    "## 5 Exercise Five"
   ]
  },
  {
   "cell_type": "code",
   "execution_count": 14,
   "metadata": {},
   "outputs": [],
   "source": [
    "def factorial(n):\n",
    "    # Base case: 0! = 1\n",
    "    if n == 0:\n",
    "        return 1\n",
    "    else:\n",
    "        # Recursive case: n! = n * (n-1)!\n",
    "        return n * factorial(n - 1)"
   ]
  }
 ],
 "metadata": {
  "kernelspec": {
   "display_name": "Python 3",
   "language": "python",
   "name": "python3"
  },
  "language_info": {
   "codemirror_mode": {
    "name": "ipython",
    "version": 3
   },
   "file_extension": ".py",
   "mimetype": "text/x-python",
   "name": "python",
   "nbconvert_exporter": "python",
   "pygments_lexer": "ipython3",
   "version": "3.9.5"
  }
 },
 "nbformat": 4,
 "nbformat_minor": 2
}
