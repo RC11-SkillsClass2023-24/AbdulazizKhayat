{
 "cells": [
  {
   "cell_type": "code",
   "execution_count": 2,
   "metadata": {},
   "outputs": [],
   "source": [
    "import numpy as np\n",
    "import matplotlib.pyplot as plt\n",
    "from sklearn.neighbors import NearestNeighbors\n",
    "import os\n",
    "import cv2 \n",
    "import random\n",
    "from PIL import Image\n",
    "import pandas as pd\n",
    "from sklearn.preprocessing import StandardScaler"
   ]
  },
  {
   "cell_type": "markdown",
   "metadata": {},
   "source": [
    "### 1. Train a SOM with your own collection of images\n"
   ]
  },
  {
   "cell_type": "code",
   "execution_count": 3,
   "metadata": {},
   "outputs": [],
   "source": [
    "def normalise(train, p):\n",
    "    min_d = np.min(train)\n",
    "    max_d = np.max(train)\n",
    "    normalised_p = (p-min_d)/(max_d - min_d)\n",
    "    return normalised_p"
   ]
  },
  {
   "cell_type": "code",
   "execution_count": 4,
   "metadata": {},
   "outputs": [],
   "source": [
    "def denormalise(train, p):\n",
    "    min_d = np.min(train)\n",
    "    max_d = np.max(train)\n",
    "    denormalised_p = p * (max_d - min_d) + min_d\n",
    "    return denormalised_p"
   ]
  },
  {
   "cell_type": "code",
   "execution_count": 5,
   "metadata": {},
   "outputs": [],
   "source": [
    "# Return the (g,h) index of the BMU in the grid\n",
    "def find_BMU(SOM,x):\n",
    "    distSq = (np.square(SOM - x)).sum(axis=2)\n",
    "    return np.unravel_index(np.argmin(distSq, axis=None), distSq.shape)\n",
    "\n",
    "# Update the weights of the SOM cells when given a single training example\n",
    "# and the model parameters along with BMU coordinates as a tuple\n",
    "def update_weights(SOM, train_ex, learn_rate, radius_sq, \n",
    "                   BMU_coord, step=3):\n",
    "    g, h = BMU_coord\n",
    "    #if radius is close to zero then only BMU is changed\n",
    "    if radius_sq < 1e-3:\n",
    "        SOM[g,h,:] += learn_rate * (train_ex - SOM[g,h,:])\n",
    "        return SOM\n",
    "    # Change all cells in a small neighborhood of BMU\n",
    "    for i in range(max(0, g-step), min(SOM.shape[0], g+step)):\n",
    "        for j in range(max(0, h-step), min(SOM.shape[1], h+step)):\n",
    "            dist_sq = np.square(i - g) + np.square(j - h)\n",
    "            dist_func = np.exp(-dist_sq / 2 / radius_sq)\n",
    "            SOM[i,j,:] += learn_rate * dist_func * (train_ex - SOM[i,j,:])   \n",
    "    return SOM    \n",
    "\n",
    "# Main routine for training an SOM. It requires an initialized SOM grid\n",
    "# or a partially trained grid as parameter\n",
    "def train_SOM(SOM, train_data, learn_rate = .1, radius_sq = 1, \n",
    "             lr_decay = .1, radius_decay = .1, epochs = 10):    \n",
    "    learn_rate_0 = learn_rate\n",
    "    radius_0 = radius_sq\n",
    "    for epoch in np.arange(0, epochs):\n",
    "        random.shuffle(train_data)      \n",
    "        for train_ex in train_data:\n",
    "            g, h = find_BMU(SOM, train_ex)\n",
    "            SOM = update_weights(SOM, train_ex, \n",
    "                                 learn_rate, radius_sq, (g,h))\n",
    "        # Update learning rate and radius\n",
    "        learn_rate = learn_rate_0 * np.exp(-epoch * lr_decay)\n",
    "        radius_sq = radius_0 * np.exp(-epoch * radius_decay)            \n",
    "    return SOM"
   ]
  },
  {
   "cell_type": "code",
   "execution_count": 156,
   "metadata": {},
   "outputs": [],
   "source": [
    "# Dimension of the SOM grid\n",
    "m = 10 \n",
    "n = 10\n",
    "\n",
    "train_data =[]\n",
    "\n",
    "image_path = \"Books Covers Images\"\n",
    "\n",
    "for image_file in os.listdir(image_path):\n",
    "    image_file_path = os.path.join(image_path, image_file)\n",
    "    image = Image.open(image_file_path)\n",
    "    # Convert to RGB format if the image is in grayscale\n",
    "    if image.mode != \"RGB\":\n",
    "        image = image.convert(\"RGB\")\n",
    "    # Resize the image to a common size\n",
    "    image = image.resize((50, 50))\n",
    "    # Convert image to numpy array\n",
    "    # image_array = np.array(image)\n",
    "    train_data.append(image)\n",
    "\n",
    "\n",
    "train_data = np.array(train_data)\n",
    "# Normalised training data\n",
    "n_train_data = normalise(train_data, train_data)"
   ]
  },
  {
   "cell_type": "code",
   "execution_count": 143,
   "metadata": {},
   "outputs": [],
   "source": [
    "# # Dimension of the SOM grid\n",
    "# m = 5 \n",
    "# n = 5\n",
    "\n",
    "# train_data = pd.read_csv ('combined_images.csv')\n",
    "\n",
    "\n",
    "# train_data = np.array(train_data)\n",
    "# # Normalised training data\n",
    "# n_train_data = normalise(train_data, train_data)"
   ]
  },
  {
   "cell_type": "code",
   "execution_count": 169,
   "metadata": {},
   "outputs": [],
   "source": [
    "# Initialize the SOM randomly\n",
    "SOM = np.random.uniform(0,300,(m,n,3))\n",
    "\n",
    "# to show the original vector space:\n",
    "oSOM = denormalise(train_data, SOM)"
   ]
  },
  {
   "cell_type": "code",
   "execution_count": 177,
   "metadata": {},
   "outputs": [
    {
     "name": "stderr",
     "output_type": "stream",
     "text": [
      "Clipping input data to the valid range for imshow with RGB data ([0..1] for floats or [0..255] for integers).\n"
     ]
    },
    {
     "data": {
      "image/png": "[encoded data removed]",
      "text/plain": [
       "<Figure size 800x350 with 2 Axes>"
      ]
     },
     "metadata": {},
     "output_type": "display_data"
    }
   ],
   "source": [
    "# Reshape train_data to have 3 channels\n",
    "train_data = train_data.reshape((-1, 3))\n",
    "\n",
    "# Get the dimensions of the SOM grid\n",
    "# m, n, _ = SOM.shape\n",
    "\n",
    "# Calculate the total number of pixels required to display the SOM grid\n",
    "total_pixels = m * n\n",
    "\n",
    "# Reshape the training data to match the total number of pixels in the SOM grid\n",
    "train_data = train_data[:total_pixels]\n",
    "\n",
    "# Display both the training matrix and the SOM grid\n",
    "fig, ax = plt.subplots(\n",
    "    nrows=1, ncols=2, figsize=(8, 3.5),\n",
    "    subplot_kw=dict(xticks=[], yticks=[]))\n",
    "ax[0].imshow(train_data) #.reshape(int(np.sqrt(total_pixels)), int(np.sqrt(total_pixels)), 3))\n",
    "ax[0].set_title('Training Data')\n",
    "ax[1].imshow(oSOM.astype(int))   \n",
    "ax[1].set_title('Randomly Initialized SOM Grid')\n",
    "plt.show() "
   ]
  },
  {
   "cell_type": "code",
   "execution_count": null,
   "metadata": {},
   "outputs": [],
   "source": []
  }
 ],
 "metadata": {
  "kernelspec": {
   "display_name": "Python 3",
   "language": "python",
   "name": "python3"
  },
  "language_info": {
   "codemirror_mode": {
    "name": "ipython",
    "version": 3
   },
   "file_extension": ".py",
   "mimetype": "text/x-python",
   "name": "python",
   "nbconvert_exporter": "python",
   "pygments_lexer": "ipython3",
   "version": "3.9.5"
  }
 },
 "nbformat": 4,
 "nbformat_minor": 2
}
